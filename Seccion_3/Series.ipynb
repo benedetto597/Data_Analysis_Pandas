{
 "cells": [
  {
   "cell_type": "markdown",
   "metadata": {},
   "source": [
    "<div align=\"center\">\n",
    "    \n",
    "<!-- Encabezado -->\n",
    "## Data Analysis with Pandas and Python\n",
    "\n",
    "## Sección 3 - Series\n",
    "### 24/12/2021\n",
    "\n",
    "</div>\n",
    "\n",
    "________\n",
    "\n",
    "<br>"
   ]
  },
  {
   "cell_type": "code",
   "execution_count": 1,
   "metadata": {},
   "outputs": [],
   "source": [
    "import pandas as pd"
   ]
  },
  {
   "cell_type": "markdown",
   "metadata": {},
   "source": [
    "## 3. Series\n",
    "### 31. Create A Series Object from a Python List\n",
    "#### Definición\n",
    "* Matriz de datos con una fila y una columna (unidimensional)\n",
    "\n",
    "#### Caracteristicas\n",
    "* Unidimensional\n",
    "* Almacena data en orden secuencial\n",
    "* Posee un metodo constructor (permite construir un nuevo objeto tipo Series)\n",
    "* Se pueden obtener los datos para llenar una serie a partir de un objeto tipo lista, tipo diccionario en python\n",
    "\n",
    "### Ejemplo\n",
    "1. Objeto tipo Series a partir de una lista de cadenas"
   ]
  },
  {
   "cell_type": "code",
   "execution_count": 4,
   "metadata": {},
   "outputs": [
    {
     "data": {
      "text/plain": [
       "0     Chocolate\n",
       "1    Strawberry\n",
       "2       Vanilla\n",
       "3          Mint\n",
       "4        Coffee\n",
       "5         Mocha\n",
       "dtype: object"
      ]
     },
     "execution_count": 4,
     "metadata": {},
     "output_type": "execute_result"
    }
   ],
   "source": [
    "# Lista en py\n",
    "ice_cream = ['Chocolate', 'Strawberry', 'Vanilla', 'Mint', 'Coffee', 'Mocha']\n",
    "\n",
    "# Serie de pd\n",
    "pd.Series(ice_cream) "
   ]
  },
  {
   "cell_type": "markdown",
   "metadata": {},
   "source": [
    "2. Objeto tipo Series a partir de una lista de numeros"
   ]
  },
  {
   "cell_type": "code",
   "execution_count": 3,
   "metadata": {},
   "outputs": [
    {
     "data": {
      "text/plain": [
       "0     4\n",
       "1     8\n",
       "2    15\n",
       "3    16\n",
       "4    23\n",
       "5    42\n",
       "dtype: int64"
      ]
     },
     "execution_count": 3,
     "metadata": {},
     "output_type": "execute_result"
    }
   ],
   "source": [
    "# Lista en py\n",
    "lottery = [4,8,15,16,23,42]\n",
    "\n",
    "# Serie de pd\n",
    "pd.Series(lottery) "
   ]
  },
  {
   "cell_type": "markdown",
   "metadata": {},
   "source": [
    "3. Objeto tipo Series a partir de una lista de Booleanos"
   ]
  },
  {
   "cell_type": "code",
   "execution_count": 5,
   "metadata": {},
   "outputs": [
    {
     "data": {
      "text/plain": [
       "0     True\n",
       "1    False\n",
       "2     True\n",
       "3     True\n",
       "4    False\n",
       "dtype: bool"
      ]
     },
     "execution_count": 5,
     "metadata": {},
     "output_type": "execute_result"
    }
   ],
   "source": [
    "# Lista en py\n",
    "recs = [True, False, True, True, False]\n",
    "\n",
    "# Serie de pd\n",
    "pd.Series(recs) "
   ]
  },
  {
   "cell_type": "markdown",
   "metadata": {},
   "source": [
    "### 32. Create A Series Object from a Python Dictionary\n",
    "\n",
    "#### Caracteristicas\n",
    "* Permite tener indices no numericos\n",
    "* Permite tener indices no unicos, es decir pueden haber indices repetidos (puede ser util para almacenar datos de una persona)\n",
    "\n",
    "#### Ejemplos\n",
    "\n",
    "1. Objeto tipo Series a partir de un diccionario de cadenas"
   ]
  },
  {
   "cell_type": "code",
   "execution_count": 6,
   "metadata": {},
   "outputs": [
    {
     "data": {
      "text/plain": [
       "Fruta Verde          Pera\n",
       "Fruta Roja        Manzana\n",
       "Fruta Amarilla       Piña\n",
       "dtype: object"
      ]
     },
     "execution_count": 6,
     "metadata": {},
     "output_type": "execute_result"
    }
   ],
   "source": [
    "# Diccionario en py\n",
    "fruits = {\n",
    "    \"Fruta Verde\":\"Pera\", \n",
    "    \"Fruta Roja\":\"Manzana\", \n",
    "    \"Fruta Amarilla\":\"Piña\"\n",
    "    }\n",
    "\n",
    "# Serie de pd\n",
    "pd.Series(fruits) "
   ]
  },
  {
   "cell_type": "markdown",
   "metadata": {},
   "source": [
    "_______\n",
    "<div align=\"center\">\n",
    "   \n",
    "<!-- Pie de Página -->\n",
    "    \n",
    "### Autores \n",
    "| Nombre | Contacto |\n",
    "|:-------------:| :-----:|\n",
    "| Edgar Benedetto | [Gmail](mailto:ejbg597@gmail.com) |\n",
    "    \n",
    "</div>"
   ]
  }
 ],
 "metadata": {
  "kernelspec": {
   "display_name": "Python 3",
   "language": "python",
   "name": "python3"
  },
  "language_info": {
   "codemirror_mode": {
    "name": "ipython",
    "version": 3
   },
   "file_extension": ".py",
   "mimetype": "text/x-python",
   "name": "python",
   "nbconvert_exporter": "python",
   "pygments_lexer": "ipython3",
   "version": "3.9.9"
  }
 },
 "nbformat": 4,
 "nbformat_minor": 4
}
