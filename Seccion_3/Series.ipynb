{
 "cells": [
  {
   "cell_type": "markdown",
   "metadata": {},
   "source": [
    "<div align=\"center\">\n",
    "    \n",
    "<!-- Encabezado -->\n",
    "## Data Analysis with Pandas and Python\n",
    "\n",
    "## Sección 3 - Series\n",
    "### 24/12/2021\n",
    "\n",
    "</div>\n",
    "\n",
    "________\n",
    "\n",
    "<br>"
   ]
  },
  {
   "cell_type": "code",
   "execution_count": 1,
   "metadata": {},
   "outputs": [],
   "source": [
    "import pandas as pd"
   ]
  },
  {
   "cell_type": "markdown",
   "metadata": {},
   "source": [
    "## 3. Series\n",
    "### 3.1 Create A Series Object from a Python List\n",
    "#### Definición\n",
    "* Matriz de datos con una fila y una columna (unidimensional)\n",
    "\n",
    "#### Caracteristicas\n",
    "* Unidimensional\n",
    "* Almacena data en orden secuencial\n",
    "* Posee un metodo constructor (permite construir un nuevo objeto tipo Series)\n",
    "* Se pueden obtener los datos para llenar una serie a partir de un objeto tipo lista, tipo diccionario en python\n",
    "\n",
    "### Ejemplo\n",
    "1. Objeto tipo Series a partir de una lista de cadenas"
   ]
  },
  {
   "cell_type": "code",
   "execution_count": 4,
   "metadata": {},
   "outputs": [
    {
     "data": {
      "text/plain": [
       "0     Chocolate\n",
       "1    Strawberry\n",
       "2       Vanilla\n",
       "3          Mint\n",
       "4        Coffee\n",
       "5         Mocha\n",
       "dtype: object"
      ]
     },
     "execution_count": 4,
     "metadata": {},
     "output_type": "execute_result"
    }
   ],
   "source": [
    "# Lista en py\n",
    "ice_cream = ['Chocolate', 'Strawberry', 'Vanilla', 'Mint', 'Coffee', 'Mocha']\n",
    "\n",
    "# Serie de pd\n",
    "pd.Series(ice_cream) "
   ]
  },
  {
   "cell_type": "markdown",
   "metadata": {},
   "source": [
    "2. Objeto tipo Series a partir de una lista de numeros"
   ]
  },
  {
   "cell_type": "code",
   "execution_count": 3,
   "metadata": {},
   "outputs": [
    {
     "data": {
      "text/plain": [
       "0     4\n",
       "1     8\n",
       "2    15\n",
       "3    16\n",
       "4    23\n",
       "5    42\n",
       "dtype: int64"
      ]
     },
     "execution_count": 3,
     "metadata": {},
     "output_type": "execute_result"
    }
   ],
   "source": [
    "# Lista en py\n",
    "lottery = [4,8,15,16,23,42]\n",
    "\n",
    "# Serie de pd\n",
    "pd.Series(lottery) "
   ]
  },
  {
   "cell_type": "markdown",
   "metadata": {},
   "source": [
    "3. Objeto tipo Series a partir de una lista de Booleanos"
   ]
  },
  {
   "cell_type": "code",
   "execution_count": 5,
   "metadata": {},
   "outputs": [
    {
     "data": {
      "text/plain": [
       "0     True\n",
       "1    False\n",
       "2     True\n",
       "3     True\n",
       "4    False\n",
       "dtype: bool"
      ]
     },
     "execution_count": 5,
     "metadata": {},
     "output_type": "execute_result"
    }
   ],
   "source": [
    "# Lista en py\n",
    "recs = [True, False, True, True, False]\n",
    "\n",
    "# Serie de pd\n",
    "pd.Series(recs) "
   ]
  },
  {
   "cell_type": "markdown",
   "metadata": {},
   "source": [
    "### 3.2 Create A Series Object from a Python Dictionary\n",
    "\n",
    "#### Caracteristicas\n",
    "* Permite tener indices no numericos\n",
    "* Permite tener indices no unicos, es decir pueden haber indices repetidos (puede ser util para almacenar datos de una persona)\n",
    "\n",
    "#### Ejemplos\n",
    "\n",
    "1. Objeto tipo Series a partir de un diccionario de cadenas"
   ]
  },
  {
   "cell_type": "code",
   "execution_count": 6,
   "metadata": {},
   "outputs": [
    {
     "data": {
      "text/plain": [
       "Fruta Verde          Pera\n",
       "Fruta Roja        Manzana\n",
       "Fruta Amarilla       Piña\n",
       "dtype: object"
      ]
     },
     "execution_count": 6,
     "metadata": {},
     "output_type": "execute_result"
    }
   ],
   "source": [
    "# Diccionario en py\n",
    "fruits = {\n",
    "    \"Fruta Verde\":\"Pera\", \n",
    "    \"Fruta Roja\":\"Manzana\", \n",
    "    \"Fruta Amarilla\":\"Piña\"\n",
    "    }\n",
    "\n",
    "# Serie de pd\n",
    "pd.Series(fruits) "
   ]
  },
  {
   "cell_type": "markdown",
   "metadata": {},
   "source": [
    "#### Ejercicio\n",
    "\n",
    "1. Import the pandas library and assign it its \"pd\" alias\n",
    "2. Create a list with 4 countries - United States, France, Germany, Italy\n",
    "3. Create a new Series by passing in the list of countries\n",
    "4. Assign the Series to a \"countries\" variable\n",
    "5. Create a list with 3 colors - red, green, blue\n",
    "6. Create a new Series by passing in the list of colors\n",
    "7. Assign the Series to a \"colors\" variable\n",
    "8. Given the \"recipe\" dictionary below\n",
    "9. Create a new Series by passing in the dictionary as the data source\n",
    "10. Assign the resulting Series to a \"series_dict\" variable"
   ]
  },
  {
   "cell_type": "code",
   "execution_count": 3,
   "metadata": {},
   "outputs": [
    {
     "data": {
      "text/plain": [
       "0    United States\n",
       "1           France\n",
       "2          Germany\n",
       "3            Italy\n",
       "dtype: object"
      ]
     },
     "execution_count": 3,
     "metadata": {},
     "output_type": "execute_result"
    }
   ],
   "source": [
    "import pandas as pd\n",
    "\n",
    "list_countries = ['United States', 'France', 'Germany', 'Italy']\n",
    "countries = pd.Series(list_countries)\n",
    "\n",
    "list_colors = ['red', 'green', 'blue']\n",
    "colors = pd.Series(list_colors)\n",
    "\n",
    "recipe = {\n",
    "  \"Flour\": True,\n",
    "  \"Sugar\": True,\n",
    "  \"Salt\": False\n",
    "}\n",
    "\n",
    "series_dict = pd.Series(recipe)\n",
    "\n",
    "countries\n"
   ]
  },
  {
   "cell_type": "markdown",
   "metadata": {},
   "source": [
    "### 3.3 Intro Methods\n",
    "\n",
    "#### Definicion\n",
    "* Las **funciones** en python son procedimientos que existend independientemente de cualquier objeto en especifico en cambio el **método** está intrincecamente vinculado a un objeto\n",
    "#### Caracteristicas\n",
    "* Los tipos de datos tienen metodos como las cadenas tienen el metodo **upper** para hacer las letras de la cadena mayusculas\n",
    "* Las cadenas no son mutables en python"
   ]
  },
  {
   "cell_type": "code",
   "execution_count": 4,
   "metadata": {},
   "outputs": [
    {
     "data": {
      "text/plain": [
       "'HELLO'"
      ]
     },
     "execution_count": 4,
     "metadata": {},
     "output_type": "execute_result"
    }
   ],
   "source": [
    "\"hello\".upper()"
   ]
  },
  {
   "cell_type": "markdown",
   "metadata": {},
   "source": [
    "* Las listas si son mutables en python"
   ]
  },
  {
   "cell_type": "code",
   "execution_count": 5,
   "metadata": {},
   "outputs": [
    {
     "data": {
      "text/plain": [
       "[1, 2, 3, 4]"
      ]
     },
     "execution_count": 5,
     "metadata": {},
     "output_type": "execute_result"
    }
   ],
   "source": [
    "values = [1, 2, 3]\n",
    "values.append(4)\n",
    "values"
   ]
  },
  {
   "cell_type": "markdown",
   "metadata": {},
   "source": [
    "* En Pandas las series son mutables"
   ]
  },
  {
   "cell_type": "code",
   "execution_count": 7,
   "metadata": {},
   "outputs": [
    {
     "data": {
      "text/plain": [
       "0    2.99\n",
       "1    4.45\n",
       "2    2.25\n",
       "dtype: float64"
      ]
     },
     "execution_count": 7,
     "metadata": {},
     "output_type": "execute_result"
    }
   ],
   "source": [
    "prices = pd.Series([2.99, 4.45, 2.25])\n",
    "prices"
   ]
  },
  {
   "cell_type": "markdown",
   "metadata": {},
   "source": [
    "* **Sumar todos los valores de una serie en Pandas con sum()**\n",
    "    * sum() --> No acepta argumentos"
   ]
  },
  {
   "cell_type": "code",
   "execution_count": 8,
   "metadata": {},
   "outputs": [
    {
     "data": {
      "text/plain": [
       "9.690000000000001"
      ]
     },
     "execution_count": 8,
     "metadata": {},
     "output_type": "execute_result"
    }
   ],
   "source": [
    "prices.sum()"
   ]
  },
  {
   "cell_type": "markdown",
   "metadata": {},
   "source": [
    "* **Multiplicar todos los valores de una serie en Pandas con product()**\n",
    "    * product() --> No acepta argumentos"
   ]
  },
  {
   "cell_type": "code",
   "execution_count": 9,
   "metadata": {},
   "outputs": [
    {
     "data": {
      "text/plain": [
       "29.937375000000003"
      ]
     },
     "execution_count": 9,
     "metadata": {},
     "output_type": "execute_result"
    }
   ],
   "source": [
    "prices.product()"
   ]
  },
  {
   "cell_type": "markdown",
   "metadata": {},
   "source": [
    "* **Media de todos los valores de una serie en Pandas con mean()**\n",
    "    * mean() --> No acepta argumentos"
   ]
  },
  {
   "cell_type": "code",
   "execution_count": 10,
   "metadata": {},
   "outputs": [
    {
     "data": {
      "text/plain": [
       "3.2300000000000004"
      ]
     },
     "execution_count": 10,
     "metadata": {},
     "output_type": "execute_result"
    }
   ],
   "source": [
    "prices.mean()"
   ]
  },
  {
   "cell_type": "markdown",
   "metadata": {},
   "source": [
    "### 3.4 Intro Attributes\n",
    "\n",
    "#### Definicion\n",
    "* Un atributo es un detalle una caracteristica o un hecho que un objeto puede decirnos sobre si mismo\n",
    "#### Caracteristicas\n",
    "* En pandas hay varias formas de desvelar los atributos de una serie"
   ]
  },
  {
   "cell_type": "code",
   "execution_count": 12,
   "metadata": {},
   "outputs": [
    {
     "data": {
      "text/plain": [
       "0       Smart\n",
       "1    Handosme\n",
       "2    Charming\n",
       "dtype: object"
      ]
     },
     "execution_count": 12,
     "metadata": {},
     "output_type": "execute_result"
    }
   ],
   "source": [
    "adjectives = pd.Series([\"Smart\", \"Handosme\", \"Charming\"])\n",
    "adjectives"
   ]
  },
  {
   "cell_type": "markdown",
   "metadata": {},
   "source": [
    "* **Conocer el tamaño de una serie en pandas con size**"
   ]
  },
  {
   "cell_type": "code",
   "execution_count": 13,
   "metadata": {},
   "outputs": [
    {
     "data": {
      "text/plain": [
       "3"
      ]
     },
     "execution_count": 13,
     "metadata": {},
     "output_type": "execute_result"
    }
   ],
   "source": [
    "adjectives.size"
   ]
  },
  {
   "cell_type": "markdown",
   "metadata": {},
   "source": [
    "_______\n",
    "<div align=\"center\">\n",
    "   \n",
    "<!-- Pie de Página -->\n",
    "    \n",
    "### Autores \n",
    "| Nombre | Contacto |\n",
    "|:-------------:| :-----:|\n",
    "| Edgar Benedetto | [Gmail](mailto:ejbg597@gmail.com) |\n",
    "    \n",
    "</div>"
   ]
  }
 ],
 "metadata": {
  "interpreter": {
   "hash": "916dbcbb3f70747c44a77c7bcd40155683ae19c65e1c03b4aa3499c5328201f1"
  },
  "kernelspec": {
   "display_name": "Python 3.8.10 64-bit",
   "language": "python",
   "name": "python3"
  },
  "language_info": {
   "codemirror_mode": {
    "name": "ipython",
    "version": 3
   },
   "file_extension": ".py",
   "mimetype": "text/x-python",
   "name": "python",
   "nbconvert_exporter": "python",
   "pygments_lexer": "ipython3",
   "version": "3.8.10"
  }
 },
 "nbformat": 4,
 "nbformat_minor": 4
}
