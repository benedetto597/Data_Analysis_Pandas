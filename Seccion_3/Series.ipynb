{
 "cells": [
  {
   "cell_type": "markdown",
   "metadata": {},
   "source": [
    "<div align=\"center\">\n",
    "    \n",
    "<!-- Encabezado -->\n",
    "## Data Analysis with Pandas and Python\n",
    "\n",
    "## Sección 3 - Series\n",
    "### 24/12/2021\n",
    "\n",
    "</div>\n",
    "\n",
    "________\n",
    "\n",
    "<br>"
   ]
  },
  {
   "cell_type": "markdown",
   "metadata": {},
   "source": []
  },
  {
   "cell_type": "markdown",
   "metadata": {},
   "source": [
    "_______\n",
    "<div align=\"center\">\n",
    "   \n",
    "<!-- Pie de Página -->\n",
    "    \n",
    "### Autores \n",
    "| Nombre | Contacto |\n",
    "|:-------------:| :-----:|\n",
    "| Edgar Benedetto | [Gmail](mailto:ejbg597@gmail.com) |\n",
    "    \n",
    "</div>"
   ]
  }
 ],
 "metadata": {
  "kernelspec": {
   "display_name": "Python 3",
   "language": "python",
   "name": "python3"
  },
  "language_info": {
   "codemirror_mode": {
    "name": "ipython",
    "version": 3
   },
   "file_extension": ".py",
   "mimetype": "text/x-python",
   "name": "python",
   "nbconvert_exporter": "python",
   "pygments_lexer": "ipython3",
   "version": "3.8.10"
  }
 },
 "nbformat": 4,
 "nbformat_minor": 4
}
