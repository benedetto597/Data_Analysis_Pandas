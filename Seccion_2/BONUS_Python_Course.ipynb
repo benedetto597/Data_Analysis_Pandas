{
 "cells": [
  {
   "cell_type": "markdown",
   "metadata": {},
   "source": [
    "<div align=\"center\">\n",
    "    \n",
    "<!-- Encabezado -->\n",
    "## Data Analysis with Pandas and Python\n",
    "\n",
    "## Sección 2 - BONUS Python Crash Course\n",
    "### 23/12/2021 - 24/12/2021\n",
    "\n",
    "</div>\n",
    "\n",
    "_______\n",
    "\n",
    "| Tipo | Clase | Descripción | Inmutable |\n",
    "| ------- |-------|-------------|-----------|\n",
    "| Númerica | bool| valor boleano | x |\n",
    "| Númerica | int | entero (magnitud arbitraria) | x |\n",
    "| Númerica | float | Número punto flotante | x |\n",
    "| Secuencias de elementos | list | Sequequencia de valores mutables | |\n",
    "| Secuencias de elementos | tupla | Sequencia de valores inmutables | x |\n",
    "| Secuencias de elementos | str | Cadena de caracteres | x |\n",
    "| Conjuntos | set | Conjunto desordenado de distintos objetos | | ,\n",
    "| Conjuntos | frozenset | Forma inmutable del Conjunto de una clase | x |\n",
    "| Conjuntos de pares clave:valor | dict | Mapa asociativo (diccionario aka) | |\n",
    "\n",
    "<br>"
   ]
  },
  {
   "cell_type": "markdown",
   "metadata": {},
   "source": [
    "\n",
    "### 22. Operators\n",
    "\n",
    "* **//** --> División al menor resultado (redondeo para abajo):\n"
   ]
  },
  {
   "cell_type": "code",
   "execution_count": 1,
   "metadata": {},
   "outputs": [
    {
     "data": {
      "text/plain": [
       "3"
      ]
     },
     "execution_count": 1,
     "metadata": {},
     "output_type": "execute_result"
    }
   ],
   "source": [
    "10 // 3 "
   ]
  },
  {
   "cell_type": "markdown",
   "metadata": {},
   "source": [
    "\n",
    "### 24. Built-in Functions\n",
    "\n",
    "* Castear a cadena de caracters o string\n"
   ]
  },
  {
   "cell_type": "code",
   "execution_count": 2,
   "metadata": {},
   "outputs": [
    {
     "data": {
      "text/plain": [
       "'3.14'"
      ]
     },
     "execution_count": 2,
     "metadata": {},
     "output_type": "execute_result"
    }
   ],
   "source": [
    "str(3.14)"
   ]
  },
  {
   "cell_type": "markdown",
   "metadata": {},
   "source": [
    "\n",
    "### 26. String Methods\n",
    "\n",
    "* **upper** --> Hacer los caracteres de una cadena mayusculas"
   ]
  },
  {
   "cell_type": "code",
   "execution_count": 6,
   "metadata": {},
   "outputs": [
    {
     "data": {
      "text/plain": [
       "'DEV'"
      ]
     },
     "execution_count": 6,
     "metadata": {},
     "output_type": "execute_result"
    }
   ],
   "source": [
    "profession = \"Dev\"\n",
    "profession.upper()"
   ]
  },
  {
   "cell_type": "markdown",
   "metadata": {},
   "source": [
    "\n",
    "* **lower** --> Hacer los caracteres de una cadena minusculas"
   ]
  },
  {
   "cell_type": "code",
   "execution_count": 8,
   "metadata": {},
   "outputs": [
    {
     "data": {
      "text/plain": [
       "'dev'"
      ]
     },
     "execution_count": 8,
     "metadata": {},
     "output_type": "execute_result"
    }
   ],
   "source": [
    "profession.lower()\n"
   ]
  },
  {
   "cell_type": "markdown",
   "metadata": {},
   "source": [
    "* **swapcase** --> Invertir los caracteres de una cadena de minusculas a mayusculas y viceversa"
   ]
  },
  {
   "cell_type": "code",
   "execution_count": 9,
   "metadata": {},
   "outputs": [
    {
     "data": {
      "text/plain": [
       "'dEV'"
      ]
     },
     "execution_count": 9,
     "metadata": {},
     "output_type": "execute_result"
    }
   ],
   "source": [
    "profession.swapcase()"
   ]
  },
  {
   "cell_type": "markdown",
   "metadata": {},
   "source": [
    "\n",
    "* **tittle** -->Escribir en mayuscula la primer letra de cada palabra de la cadena"
   ]
  },
  {
   "cell_type": "code",
   "execution_count": 11,
   "metadata": {},
   "outputs": [
    {
     "data": {
      "text/plain": [
       "'Dev Op'"
      ]
     },
     "execution_count": 11,
     "metadata": {},
     "output_type": "execute_result"
    }
   ],
   "source": [
    "profession = \"dev op\"\n",
    "profession.title()"
   ]
  },
  {
   "cell_type": "markdown",
   "metadata": {},
   "source": [
    "\n",
    "* **capitalize** --> Escribir en mayuscula la primer letra de la primer palabra de la cadena"
   ]
  },
  {
   "cell_type": "code",
   "execution_count": 12,
   "metadata": {},
   "outputs": [
    {
     "data": {
      "text/plain": [
       "'Dev op'"
      ]
     },
     "execution_count": 12,
     "metadata": {},
     "output_type": "execute_result"
    }
   ],
   "source": [
    "profession.capitalize()"
   ]
  },
  {
   "cell_type": "markdown",
   "metadata": {},
   "source": [
    "\n",
    "* **strip** --> Eliminar los espacios en blanco de una cadena al inicio y al final de la misma. **rstrip** para los espacios a la derecha y **lstrip** para los espacios a la izquierda."
   ]
  },
  {
   "cell_type": "code",
   "execution_count": 13,
   "metadata": {},
   "outputs": [
    {
     "data": {
      "text/plain": [
       "'dev op'"
      ]
     },
     "execution_count": 13,
     "metadata": {},
     "output_type": "execute_result"
    }
   ],
   "source": [
    "profession = \"dev op       \"\n",
    "profession.strip()"
   ]
  },
  {
   "cell_type": "markdown",
   "metadata": {},
   "source": [
    "\n",
    "* **replace** --> Reemplazar el contenido de una cadena. \n",
    "    * Primer parametro: \n",
    "        * Lo que se busca en la cadena\n",
    "    * Segundo parametro:\n",
    "        * Con lo que se reemplazará lo buscado en la cadena\n"
   ]
  },
  {
   "cell_type": "code",
   "execution_count": 15,
   "metadata": {},
   "outputs": [
    {
     "data": {
      "text/plain": [
       "'Dev Web'"
      ]
     },
     "execution_count": 15,
     "metadata": {},
     "output_type": "execute_result"
    }
   ],
   "source": [
    "profession = \"Dev op\"\n",
    "profession.replace('op', 'Web')"
   ]
  },
  {
   "cell_type": "markdown",
   "metadata": {},
   "source": [
    "\n",
    "* **startswith & endswith** --> Validar si una cadena empiza o termina con un conjunto de caracteres dados (Distingue entre mayusculas y minusculas)"
   ]
  },
  {
   "cell_type": "code",
   "execution_count": 17,
   "metadata": {},
   "outputs": [
    {
     "data": {
      "text/plain": [
       "True"
      ]
     },
     "execution_count": 17,
     "metadata": {},
     "output_type": "execute_result"
    }
   ],
   "source": [
    "profession.startswith('De')"
   ]
  },
  {
   "cell_type": "markdown",
   "metadata": {},
   "source": [
    "### 27. Lists\n",
    "\n",
    "* **pop** --> Eliminar el ultimo elemento de una lista\n"
   ]
  },
  {
   "cell_type": "code",
   "execution_count": 1,
   "metadata": {},
   "outputs": [
    {
     "data": {
      "text/plain": [
       "11"
      ]
     },
     "execution_count": 1,
     "metadata": {},
     "output_type": "execute_result"
    }
   ],
   "source": [
    "test_list = [1,2,3,4,5,6,7,8,9,10,11]\n",
    "test_list.pop()"
   ]
  },
  {
   "cell_type": "markdown",
   "metadata": {},
   "source": [
    "* **remove** --> Eliminar la primer aparicion de un elemento de una lista"
   ]
  },
  {
   "cell_type": "code",
   "execution_count": 2,
   "metadata": {},
   "outputs": [
    {
     "data": {
      "text/plain": [
       "[1, 3, 4, 5, 6, 7, 8, 9, 10]"
      ]
     },
     "execution_count": 2,
     "metadata": {},
     "output_type": "execute_result"
    }
   ],
   "source": [
    "test_list.remove(2)\n",
    "test_list"
   ]
  },
  {
   "cell_type": "markdown",
   "metadata": {},
   "source": [
    "### 29. Dictionaries\n",
    "\n",
    "* **pop** --> Eliminar un objeto (clave - valor) de un diccionario"
   ]
  },
  {
   "cell_type": "code",
   "execution_count": 3,
   "metadata": {},
   "outputs": [
    {
     "data": {
      "text/plain": [
       "{'Enchiladas': 29.99, 'Quesadillas': 49.99}"
      ]
     },
     "execution_count": 3,
     "metadata": {},
     "output_type": "execute_result"
    }
   ],
   "source": [
    "menu = {\n",
    "    \"Tostadas\": 39.99,\n",
    "    \"Enchiladas\": 29.99,\n",
    "    \"Quesadillas\": 49.99\n",
    "}\n",
    "\n",
    "menu.pop(\"Tostadas\")\n",
    "\n",
    "menu"
   ]
  },
  {
   "cell_type": "markdown",
   "metadata": {},
   "source": [
    "_______\n",
    "<div align=\"center\">\n",
    "   \n",
    "<!-- Pie de Página -->\n",
    "    \n",
    "### Autores \n",
    "| Nombre | Contacto |\n",
    "|:-------------:| :-----:|\n",
    "| Edgar Benedetto | [Gmail](mailto:ejbg597@gmail.com) |\n",
    "    \n",
    "</div>"
   ]
  }
 ],
 "metadata": {
  "interpreter": {
   "hash": "916dbcbb3f70747c44a77c7bcd40155683ae19c65e1c03b4aa3499c5328201f1"
  },
  "kernelspec": {
   "display_name": "Python 3.8.10 64-bit",
   "language": "python",
   "name": "python3"
  },
  "language_info": {
   "codemirror_mode": {
    "name": "ipython",
    "version": 3
   },
   "file_extension": ".py",
   "mimetype": "text/x-python",
   "name": "python",
   "nbconvert_exporter": "python",
   "pygments_lexer": "ipython3",
   "version": "3.8.10"
  }
 },
 "nbformat": 4,
 "nbformat_minor": 4
}
